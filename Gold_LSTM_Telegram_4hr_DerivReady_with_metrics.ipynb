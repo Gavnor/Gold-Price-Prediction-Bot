{
 "cells": [
  {
   "cell_type": "code",
   "execution_count": 2,
   "id": "8da0fd8c",
   "metadata": {},
   "outputs": [
    {
     "ename": "KeyboardInterrupt",
     "evalue": "",
     "output_type": "error",
     "traceback": [
      "\u001b[31m---------------------------------------------------------------------------\u001b[39m",
      "\u001b[31mKeyboardInterrupt\u001b[39m                         Traceback (most recent call last)",
      "\u001b[36mCell\u001b[39m\u001b[36m \u001b[39m\u001b[32mIn[2]\u001b[39m\u001b[32m, line 1\u001b[39m\n\u001b[32m----> \u001b[39m\u001b[32m1\u001b[39m \u001b[38;5;28;01mimport\u001b[39;00m\u001b[38;5;250m \u001b[39m\u001b[34;01mrequests\u001b[39;00m\n\u001b[32m      2\u001b[39m \u001b[38;5;28;01mimport\u001b[39;00m\u001b[38;5;250m \u001b[39m\u001b[34;01mnumpy\u001b[39;00m\u001b[38;5;250m \u001b[39m\u001b[38;5;28;01mas\u001b[39;00m\u001b[38;5;250m \u001b[39m\u001b[34;01mnp\u001b[39;00m\n\u001b[32m      3\u001b[39m \u001b[38;5;28;01mimport\u001b[39;00m\u001b[38;5;250m \u001b[39m\u001b[34;01mpandas\u001b[39;00m\u001b[38;5;250m \u001b[39m\u001b[38;5;28;01mas\u001b[39;00m\u001b[38;5;250m \u001b[39m\u001b[34;01mpd\u001b[39;00m\n",
      "\u001b[36mFile \u001b[39m\u001b[32m<stringsource>:69\u001b[39m, in \u001b[36mcfunc.to_py.__Pyx_CFunc_b0409f__29_pydevd_sys_monitoring_cython_object__lParen__etc_to_py_4code_4line.wrap\u001b[39m\u001b[34m()\u001b[39m\n",
      "\u001b[36mFile \u001b[39m\u001b[32m_pydevd_sys_monitoring\\\\_pydevd_sys_monitoring_cython.pyx:1470\u001b[39m, in \u001b[36m_pydevd_sys_monitoring_cython._line_event\u001b[39m\u001b[34m()\u001b[39m\n",
      "\u001b[36mFile \u001b[39m\u001b[32m_pydevd_sys_monitoring\\\\_pydevd_sys_monitoring_cython.pyx:1512\u001b[39m, in \u001b[36m_pydevd_sys_monitoring_cython._internal_line_event\u001b[39m\u001b[34m()\u001b[39m\n",
      "\u001b[36mFile \u001b[39m\u001b[32m_pydevd_sys_monitoring\\\\_pydevd_sys_monitoring_cython.pyx:1313\u001b[39m, in \u001b[36m_pydevd_sys_monitoring_cython._stop_on_breakpoint\u001b[39m\u001b[34m()\u001b[39m\n",
      "\u001b[36mFile \u001b[39m\u001b[32m_pydevd_sys_monitoring\\\\_pydevd_sys_monitoring_cython.pyx:1950\u001b[39m, in \u001b[36m_pydevd_sys_monitoring_cython._do_wait_suspend\u001b[39m\u001b[34m()\u001b[39m\n",
      "\u001b[36mFile \u001b[39m\u001b[32m~/.local/lib/python3.12/site-packages/debugpy/_vendored/pydevd/pydevd.py:2188\u001b[39m, in \u001b[36mPyDB.do_wait_suspend\u001b[39m\u001b[34m(self, thread, frame, event, arg, exception_type)\u001b[39m\n\u001b[32m   2185\u001b[39m             from_this_thread.append(frame_custom_thread_id)\n\u001b[32m   2187\u001b[39m     \u001b[38;5;28;01mwith\u001b[39;00m \u001b[38;5;28mself\u001b[39m._threads_suspended_single_notification.notify_thread_suspended(thread_id, thread, stop_reason):\n\u001b[32m-> \u001b[39m\u001b[32m2188\u001b[39m         keep_suspended = \u001b[38;5;28;43mself\u001b[39;49m\u001b[43m.\u001b[49m\u001b[43m_do_wait_suspend\u001b[49m\u001b[43m(\u001b[49m\u001b[43mthread\u001b[49m\u001b[43m,\u001b[49m\u001b[43m \u001b[49m\u001b[43mframe\u001b[49m\u001b[43m,\u001b[49m\u001b[43m \u001b[49m\u001b[43mevent\u001b[49m\u001b[43m,\u001b[49m\u001b[43m \u001b[49m\u001b[43marg\u001b[49m\u001b[43m,\u001b[49m\u001b[43m \u001b[49m\u001b[43mtrace_suspend_type\u001b[49m\u001b[43m,\u001b[49m\u001b[43m \u001b[49m\u001b[43mfrom_this_thread\u001b[49m\u001b[43m,\u001b[49m\u001b[43m \u001b[49m\u001b[43mframes_tracker\u001b[49m\u001b[43m)\u001b[49m\n\u001b[32m   2190\u001b[39m frames_list = \u001b[38;5;28;01mNone\u001b[39;00m\n\u001b[32m   2192\u001b[39m \u001b[38;5;28;01mif\u001b[39;00m keep_suspended:\n\u001b[32m   2193\u001b[39m     \u001b[38;5;66;03m# This means that we should pause again after a set next statement.\u001b[39;00m\n",
      "\u001b[36mFile \u001b[39m\u001b[32m~/.local/lib/python3.12/site-packages/debugpy/_vendored/pydevd/pydevd.py:2257\u001b[39m, in \u001b[36mPyDB._do_wait_suspend\u001b[39m\u001b[34m(self, thread, frame, event, arg, trace_suspend_type, from_this_thread, frames_tracker)\u001b[39m\n\u001b[32m   2254\u001b[39m                 queue.put(internal_cmd)\n\u001b[32m   2255\u001b[39m                 wait_timeout = TIMEOUT_FAST\n\u001b[32m-> \u001b[39m\u001b[32m2257\u001b[39m         \u001b[43mnotify_event\u001b[49m\u001b[43m.\u001b[49m\u001b[43mwait\u001b[49m\u001b[43m(\u001b[49m\u001b[43mwait_timeout\u001b[49m\u001b[43m)\u001b[49m\n\u001b[32m   2258\u001b[39m         notify_event.clear()\n\u001b[32m   2260\u001b[39m \u001b[38;5;28;01mfinally\u001b[39;00m:\n",
      "\u001b[36mFile \u001b[39m\u001b[32m~/.python/current/lib/python3.12/threading.py:655\u001b[39m, in \u001b[36mEvent.wait\u001b[39m\u001b[34m(self, timeout)\u001b[39m\n\u001b[32m    653\u001b[39m signaled = \u001b[38;5;28mself\u001b[39m._flag\n\u001b[32m    654\u001b[39m \u001b[38;5;28;01mif\u001b[39;00m \u001b[38;5;129;01mnot\u001b[39;00m signaled:\n\u001b[32m--> \u001b[39m\u001b[32m655\u001b[39m     signaled = \u001b[38;5;28;43mself\u001b[39;49m\u001b[43m.\u001b[49m\u001b[43m_cond\u001b[49m\u001b[43m.\u001b[49m\u001b[43mwait\u001b[49m\u001b[43m(\u001b[49m\u001b[43mtimeout\u001b[49m\u001b[43m)\u001b[49m\n\u001b[32m    656\u001b[39m \u001b[38;5;28;01mreturn\u001b[39;00m signaled\n",
      "\u001b[36mFile \u001b[39m\u001b[32m~/.python/current/lib/python3.12/threading.py:359\u001b[39m, in \u001b[36mCondition.wait\u001b[39m\u001b[34m(self, timeout)\u001b[39m\n\u001b[32m    357\u001b[39m \u001b[38;5;28;01melse\u001b[39;00m:\n\u001b[32m    358\u001b[39m     \u001b[38;5;28;01mif\u001b[39;00m timeout > \u001b[32m0\u001b[39m:\n\u001b[32m--> \u001b[39m\u001b[32m359\u001b[39m         gotit = \u001b[43mwaiter\u001b[49m\u001b[43m.\u001b[49m\u001b[43macquire\u001b[49m\u001b[43m(\u001b[49m\u001b[38;5;28;43;01mTrue\u001b[39;49;00m\u001b[43m,\u001b[49m\u001b[43m \u001b[49m\u001b[43mtimeout\u001b[49m\u001b[43m)\u001b[49m\n\u001b[32m    360\u001b[39m     \u001b[38;5;28;01melse\u001b[39;00m:\n\u001b[32m    361\u001b[39m         gotit = waiter.acquire(\u001b[38;5;28;01mFalse\u001b[39;00m)\n",
      "\u001b[31mKeyboardInterrupt\u001b[39m: "
     ]
    }
   ],
   "source": [
    "import requests\n",
    "import numpy as np\n",
    "import pandas as pd\n",
    "import time\n",
    "from datetime import datetime\n",
    "from tensorflow.keras.models import Sequential\n",
    "from tensorflow.keras.layers import LSTM, Dense\n",
    "from sklearn.preprocessing import MinMaxScaler\n"
   ]
  },
  {
   "cell_type": "code",
   "execution_count": null,
   "id": "1f487168",
   "metadata": {},
   "outputs": [],
   "source": [
    "def send_telegram_message(message):\n",
    "    token = '7815331489:AAEe0BYA1lKdsFP88-4ta1d9Szg95bQYXw0'\n",
    "    chat_id = '1035839883'\n",
    "    url = f\"https://api.telegram.org/bot{token}/sendMessage\"\n",
    "    payload = {'chat_id': chat_id, 'text': message}\n",
    "    requests.post(url, data=payload)\n"
   ]
  },
  {
   "cell_type": "code",
   "execution_count": null,
   "id": "3c2673fb",
   "metadata": {},
   "outputs": [],
   "source": [
    "def fetch_hourly_gold_data():\n",
    "    url = \"https://api.twelvedata.com/time_series?symbol=XAU/USD&interval=1h&outputsize=48&apikey=your-twelvedata-api-key\"\n",
    "    response = requests.get(url)\n",
    "    if response.status_code == 200:\n",
    "        data = response.json()\n",
    "        df = pd.DataFrame(data[\"values\"])\n",
    "        df = df[::-1]  # reverse to chronological order\n",
    "        df[\"datetime\"] = pd.to_datetime(df[\"datetime\"])\n",
    "        df[\"price\"] = df[\"close\"].astype(float)\n",
    "        return df[[\"datetime\", \"price\"]].reset_index(drop=True)\n",
    "    else:\n",
    "        return None\n"
   ]
  },
  {
   "cell_type": "code",
   "execution_count": null,
   "id": "282d21c4",
   "metadata": {},
   "outputs": [],
   "source": [
    "def prepare_data(data, window_size=12):\n",
    "    scaler = MinMaxScaler()\n",
    "    scaled = scaler.fit_transform(data[[\"price\"]])\n",
    "    \n",
    "    X, y = [], []\n",
    "    for i in range(window_size, len(scaled)):\n",
    "        X.append(scaled[i-window_size:i])\n",
    "        y.append(scaled[i])\n",
    "    \n",
    "    X, y = np.array(X), np.array(y)\n",
    "    return X, y, scaler\n"
   ]
  },
  {
   "cell_type": "code",
   "execution_count": null,
   "id": "01991e0f",
   "metadata": {},
   "outputs": [],
   "source": [
    "def build_and_train_lstm(X, y):\n",
    "    model = Sequential()\n",
    "    model.add(LSTM(50, return_sequences=False, input_shape=(X.shape[1], 1)))\n",
    "    model.add(Dense(1))\n",
    "    model.compile(optimizer='adam', loss='mse')\n",
    "    model.fit(X, y, epochs=10, batch_size=8, verbose=0)\n",
    "    return model\n"
   ]
  },
  {
   "cell_type": "code",
   "execution_count": null,
   "id": "00d99cd0",
   "metadata": {},
   "outputs": [],
   "source": [
    "def predict_next_price(data):\n",
    "    X, y, scaler = prepare_data(data)\n",
    "    X = X.reshape((X.shape[0], X.shape[1], 1))\n",
    "    model = build_and_train_lstm(X, y)\n",
    "    \n",
    "    last_sequence = X[-1].reshape((1, X.shape[1], 1))\n",
    "    pred_scaled = model.predict(last_sequence)[0][0]\n",
    "    predicted_price = scaler.inverse_transform([[pred_scaled]])[0][0]\n",
    "    return predicted_price\n"
   ]
  },
  {
   "cell_type": "code",
   "execution_count": null,
   "id": "a4cef60e",
   "metadata": {},
   "outputs": [],
   "source": [
    "def generate_signal(predicted_price):\n",
    "    if predicted_price > 2350:\n",
    "        return \"SELL\"\n",
    "    elif predicted_price < 2300:\n",
    "        return \"BUY\"\n",
    "    else:\n",
    "        return \"HOLD\"\n"
   ]
  },
  {
   "cell_type": "code",
   "execution_count": null,
   "id": "f02da4c7",
   "metadata": {},
   "outputs": [],
   "source": [
    "while True:\n",
    "    now = datetime.utcnow().strftime(\"%Y-%m-%d %H:%M UTC\")\n",
    "    df = fetch_hourly_gold_data()\n",
    "    \n",
    "    if df is not None:\n",
    "        pred_price = predict_next_price(df)\n",
    "        signal = generate_signal(pred_price)\n",
    "        msg = f\"[{now}] Predicted Gold Price (Next Hour): ${pred_price:.2f}\\nSignal: {signal}\"\n",
    "        send_telegram_message(msg)\n",
    "        print(msg)\n",
    "    else:\n",
    "        send_telegram_message(f\"[{now}] Failed to fetch gold price data.\")\n",
    "        print(\"Failed to fetch data.\")\n",
    "    \n",
    "    time.sleep(14400)  # sleep for 4 hours\n"
   ]
  },
  {
   "cell_type": "code",
   "execution_count": null,
   "id": "f1e3283e",
   "metadata": {},
   "outputs": [],
   "source": [
    "\n",
    "# Install Deriv API client (if not already)\n",
    "!pip install deriv-api\n"
   ]
  },
  {
   "cell_type": "code",
   "execution_count": null,
   "id": "325404f4",
   "metadata": {},
   "outputs": [],
   "source": [
    "\n",
    "from deriv_api import DerivAPI\n",
    "import asyncio\n",
    "\n",
    "API_TOKEN = \"your_deriv_api_token_here\"  # Replace with your actual token\n",
    "api = DerivAPI(app_id=\"1089\")\n",
    "\n",
    "async def connect_deriv():\n",
    "    await api.connect()\n",
    "    await api.authorize(API_TOKEN)\n",
    "    print(\"Connected to Deriv API\")\n",
    "\n",
    "async def get_balance():\n",
    "    balance_response = await api.send({\"balance\": 1})\n",
    "    return float(balance_response['balance']['balance'])\n",
    "\n",
    "async def place_trade(contract_type, amount):\n",
    "    contract = {\n",
    "        \"buy\": 1,\n",
    "        \"price\": amount,\n",
    "        \"parameters\": {\n",
    "            \"amount\": amount,\n",
    "            \"basis\": \"stake\",\n",
    "            \"contract_type\": contract_type,\n",
    "            \"currency\": \"USD\",\n",
    "            \"duration\": 5,\n",
    "            \"duration_unit\": \"t\",\n",
    "            \"symbol\": \"frxXAUUSD\"\n",
    "        }\n",
    "    }\n",
    "    response = await api.send(contract)\n",
    "    print(\"Trade placed:\", response)\n",
    "    return response\n"
   ]
  },
  {
   "cell_type": "code",
   "execution_count": null,
   "id": "f799e754",
   "metadata": {},
   "outputs": [],
   "source": [
    "\n",
    "from sklearn.metrics import mean_absolute_percentage_error, r2_score, mean_squared_error\n",
    "import numpy as np\n",
    "\n",
    "# Evaluate the prediction results\n",
    "mape = mean_absolute_percentage_error(y_test, y_pred)\n",
    "r2 = r2_score(y_test, y_pred)\n",
    "rmse = np.sqrt(mean_squared_error(y_test, y_pred))\n",
    "\n",
    "print(f\"MAPE: {mape * 100:.2f}%\")\n",
    "print(f\"R² Score: {r2:.4f}\")\n",
    "print(f\"RMSE: {rmse:.4f}\")\n"
   ]
  },
  {
   "cell_type": "code",
   "execution_count": null,
   "id": "275e4f22",
   "metadata": {},
   "outputs": [],
   "source": [
    "\n",
    "# Trading decision logic based on prediction and threshold\n",
    "async def trade_on_signal(current_price, predicted_price):\n",
    "    diff = abs(predicted_price - current_price)\n",
    "    if diff < 20:\n",
    "        print(\"Price gap not significant. No trade made.\")\n",
    "        return\n",
    "\n",
    "    balance = await get_balance()\n",
    "    stake = round(0.2 * balance, 2)\n",
    "\n",
    "    if predicted_price > current_price:\n",
    "        print(\"BUY signal detected.\")\n",
    "        await place_trade(\"CALL\", stake)\n",
    "    else:\n",
    "        print(\"SELL signal detected.\")\n",
    "        await place_trade(\"PUT\", stake)\n"
   ]
  }
 ],
 "metadata": {
  "kernelspec": {
   "display_name": "Python 3",
   "language": "python",
   "name": "python3"
  },
  "language_info": {
   "codemirror_mode": {
    "name": "ipython",
    "version": 3
   },
   "file_extension": ".py",
   "mimetype": "text/x-python",
   "name": "python",
   "nbconvert_exporter": "python",
   "pygments_lexer": "ipython3",
   "version": "3.12.1"
  }
 },
 "nbformat": 4,
 "nbformat_minor": 5
}
